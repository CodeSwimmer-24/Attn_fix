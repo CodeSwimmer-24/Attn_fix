{
 "cells": [
  {
   "cell_type": "code",
   "execution_count": null,
   "metadata": {},
   "outputs": [
    {
     "ename": "",
     "evalue": "",
     "output_type": "error",
     "traceback": [
      "\u001b[1;31mRunning cells with '.venv (Python 3.12.3)' requires the ipykernel package.\n",
      "\u001b[1;31mRun the following command to install 'ipykernel' into the Python environment. \n",
      "\u001b[1;31mCommand: '/Users/fahadmahmood/Documents/Devlopments/SHC/fix-attn/attn-be-fix/.venv/bin/python -m pip install ipykernel -U --force-reinstall'"
     ]
    }
   ],
   "source": [
    "import os\n",
    "from dotenv import load_dotenv\n",
    "\n",
    "load_dotenv()"
   ]
  },
  {
   "cell_type": "code",
   "execution_count": 8,
   "metadata": {},
   "outputs": [],
   "source": [
    "import pymysql\n",
    "\n",
    "DB_HOST = os.getenv(\"DB_HOST\")\n",
    "DB_USER = os.getenv(\"DB_USER\")\n",
    "DB_PASSWORD = os.getenv(\"DB_PASSWORD\")\n",
    "DB_SCHEMA = os.getenv(\"DB_SCHEMA\")\n",
    "\n",
    "con = pymysql.connect(host=DB_HOST, user=DB_USER, password=DB_PASSWORD, port=3306, database=DB_SCHEMA)\n",
    "\n",
    "with pymysql.cursors.DictCursor(con) as empCursor:\n",
    "    empCursor.execute(\"SELECT * FROM employees\")\n",
    "    # generator\n",
    "    employees = empCursor.fetchall()\n",
    "\n",
    "    rectified = []\n",
    "\n",
    "    with pymysql.cursors.DictCursor(con) as attnCursor:\n",
    "        for employee in employees:\n",
    "            days = 0\n",
    "            otHours = 0.0\n",
    "\n",
    "            attnCursor.execute(\"SELECT * FROM attendance_record WHERE emp_id = %s AND date BETWEEN '2024-05-01' AND '2024-05-31'\", employee['empId'])\n",
    "            attendances = attnCursor.fetchall()\n",
    "            for attendance in attendances:\n",
    "                days = days + 1\n",
    "                if attendance['ot_hours'] is not None:\n",
    "                    otHours = otHours + (4.0 if attendance['ot_hours'] > 4.0 else attendance['ot_hours'])\n",
    "            \n",
    "            rectified.append({\n",
    "                \"emp_id\": employee['empId'],\n",
    "                \"days\": days,\n",
    "                \"ot_hours\": otHours\n",
    "            })\n",
    "\n",
    "# C1351   # 0015 # 1920 "
   ]
  },
  {
   "cell_type": "code",
   "execution_count": null,
   "metadata": {},
   "outputs": [],
   "source": [
    "len(rectified)"
   ]
  },
  {
   "cell_type": "code",
   "execution_count": 9,
   "metadata": {},
   "outputs": [],
   "source": [
    "con = pymysql.connect(host=DB_HOST, user=DB_USER, password=DB_PASSWORD, port=3306, database=DB_SCHEMA)\n",
    "\n",
    "with con.cursor() as cursor:\n",
    "    for rect in rectified:\n",
    "        cursor.execute('UPDATE attendance_history SET days = %s, ot_hours = %s WHERE emp_id = %s AND month = 5 AND year = 2024', (rect['days'], rect['ot_hours'], rect['emp_id']))\n",
    "\n",
    "    con.commit()\n"
   ]
  },
  {
   "cell_type": "markdown",
   "metadata": {},
   "source": [
    "# FTP connection\n"
   ]
  },
  {
   "cell_type": "code",
   "execution_count": null,
   "metadata": {},
   "outputs": [
    {
     "name": "stdout",
     "output_type": "stream",
     "text": [
      "550 group_photo: No such file or directory\n",
      "DONE\n",
      "550 group_photo: No such file or directory\n",
      "DONE\n",
      "550 group_photo: No such file or directory\n",
      "DONE\n",
      "550 group_photo: No such file or directory\n",
      "DONE\n",
      "550 group_photo: No such file or directory\n",
      "DONE\n",
      "550 group_photo: No such file or directory\n",
      "DONE\n",
      "550 group_photo: No such file or directory\n",
      "DONE\n",
      "550 group_photo: No such file or directory\n",
      "DONE\n"
     ]
    }
   ],
   "source": [
    "import os\n",
    "import json\n",
    "from ftplib import FTP\n",
    "import pymysql\n",
    "\n",
    "from dotenv import load_dotenv\n",
    "\n",
    "load_dotenv()\n",
    "\n",
    "DB_HOST = os.getenv(\"DB_HOST\")\n",
    "DB_USER = os.getenv(\"DB_USER\")\n",
    "DB_PASSWORD = os.getenv(\"DB_PASSWORD\")\n",
    "DB_SCHEMA = os.getenv(\"DB_SCHEMA\")\n",
    "\n",
    "FTP_HOST = os.getenv(\"FTP_HOST\")\n",
    "FTP_USER = os.getenv(\"FTP_USER\")\n",
    "FTP_PASSWORD = os.getenv(\"FTP_PASSWORD\")\n",
    "FTP_PORT = os.getenv(\"FTP_PORT\")\n",
    "\n",
    "\n",
    "con = pymysql.connect(host=DB_HOST, user=DB_USER, password=DB_PASSWORD, port=3306, database=DB_SCHEMA)\n",
    "\n",
    "with pymysql.cursors.DictCursor(con) as cursor:\n",
    "    dateList = [1,2,3,4,5,6,7,8,10,11,12]\n",
    "\n",
    "    for i in range(len(dateList)):\n",
    "        cursor.execute(f\"SELECT * FROM attendance_record WHERE date = '2024-09-{dateList[i]}' AND emp_id = '1025'\")\n",
    "        employee = cursor.fetchone()\n",
    "\n",
    "        if employee is not None:\n",
    "            punchin = employee['punch_in']\n",
    "\n",
    "            with FTP(FTP_HOST, FTP_USER, FTP_PASSWORD) as ftp:\n",
    "                ftp.cwd(punchin)\n",
    "\n",
    "                # log it\n",
    "                log_file = None\n",
    "                if os.path.exists(\"logs.txt\"):\n",
    "                    log_file = open(\"logs.txt\", \"a\")\n",
    "                else:\n",
    "                    log_file = open(\"logs.txt\", \"w\")\n",
    "                \n",
    "                log_file.write(str(dateList[i]))\n",
    "                log_file.write(\"\\n\")\n",
    "\n",
    "                for f in ftp.mlsd():\n",
    "                    log_file.write(json.dumps(f))\n",
    "                    log_file.write(\"\\n\")\n",
    "                \n",
    "                log_file.write(\"\\n\")\n",
    "                log_file.close()\n",
    "\n",
    "                try:\n",
    "                    with open(f\"image_at_{dateList[i]}-09-2024.jpg\", \"wb\") as image:\n",
    "                        ftp.retrbinary(\"RETR group_photo\", image.write)\n",
    "                except Exception as e:\n",
    "                    print(e)\n",
    "                \n",
    "                print(\"DONE\")"
   ]
  }
 ],
 "metadata": {
  "kernelspec": {
   "display_name": ".venv",
   "language": "python",
   "name": "python3"
  },
  "language_info": {
   "codemirror_mode": {
    "name": "ipython",
    "version": 3
   },
   "file_extension": ".py",
   "mimetype": "text/x-python",
   "name": "python",
   "nbconvert_exporter": "python",
   "pygments_lexer": "ipython3",
   "version": "3.12.3"
  }
 },
 "nbformat": 4,
 "nbformat_minor": 2
}
