{
 "cells": [
  {
   "cell_type": "code",
   "execution_count": 1,
   "metadata": {},
   "outputs": [],
   "source": [
    "import os"
   ]
  },
  {
   "cell_type": "code",
   "execution_count": 2,
   "metadata": {},
   "outputs": [],
   "source": [
    "import numpy as np\n",
    "import pandas as pd\n",
    "\n",
    "df = pd.read_excel('data.xls')\n",
    "\n",
    "empList = df.to_dict(orient='records')\n",
    "empList.pop()\n",
    "\n",
    "uniqer = set()\n",
    "for emp in empList:\n",
    "    uniqer.add(emp['accountNo'])\n",
    "\n",
    "# for emp in empList:\n",
    "#     if emp['employeeDeploySite'] == 'E': print(emp['employeeName'])\n",
    "\n",
    "for emp in empList:\n",
    "    del emp['BRANCH']\n",
    "    \n",
    "    emp['empId'] = str(int(emp['empId']))\n",
    "    empType = emp['employeeTypeId']\n",
    "    if empType == \"HIGHLY SKILLED\": empType = 1\n",
    "    elif empType == \"SKILLED\": empType = 2\n",
    "    else: empType = 3\n",
    "\n",
    "    emp['employeeTypeId'] = empType\n",
    "    emp['contact'] = None\n",
    "    emp['emergencyContact'] = None\n",
    "    emp['email'] = None\n",
    "    emp['pfNo'] = None\n",
    "\n",
    "    try:\n",
    "        emp['pfuanNo'] == int(emp['pfuanNo'])\n",
    "    except:\n",
    "        emp['pfuanNo'] = None\n",
    "    \n",
    "    emp['esicNo'] = 1223344556\n",
    "\n",
    "    try:\n",
    "        emp['adharNo'] == str(int(emp['adharNo']))\n",
    "    except:\n",
    "        emp['adharNo'] = None\n",
    "    \n",
    "    emp['panNo'] = None\n",
    "\n",
    "    emp['safetyPassNo'] = None if type(emp['safetyPassNo']) != str else emp['safetyPassNo']\n",
    "\n",
    "    emp['bankName'] = None\n",
    "\n",
    "    try:\n",
    "        emp['accountNo'] = int(emp['accountNo'])\n",
    "    except:\n",
    "        emp['accountNo'] = None\n",
    "\n",
    "    try:\n",
    "        emp['adharNo'] == str(int(emp['adharNo']))\n",
    "    except:\n",
    "        emp['adharNo'] = None\n",
    "\n",
    "    try:\n",
    "        emp['incentive'] = int(emp['incentive'])\n",
    "    except:\n",
    "        emp['incentive'] = 0\n",
    "\n",
    "    emp['ifscCode'] = None if type(emp['ifscCode']) != str else emp['ifscCode']\n",
    "\n",
    "    emp['jntvtiCertNo'] = None\n",
    "    emp['jntvtiCategory'] = None\n",
    "    emp['workExp'] = 0\n",
    "\n",
    "    try:\n",
    "        a = int(emp['actualRate'])\n",
    "    except:\n",
    "        emp['actualRate'] = 0.0\n",
    "    \n",
    "    try:\n",
    "        emp['fixed_rate'] = int(emp['fixed_rate'])\n",
    "    except:\n",
    "        emp['fixed_rate'] = 0\n",
    "    \n",
    "    emp['otType'] = 0\n",
    "\n",
    "    if type(emp['workingHours']) == str:\n",
    "        emp['workingHours'] = int(emp['workingHours'].split('hrs')[0])\n",
    "    else:\n",
    "        emp['workingHours'] = 8\n",
    "    \n",
    "    emp['qualification'] = None\n",
    "\n",
    "    emp['dob'] = None\n",
    "\n",
    "    emp['payment_type'] = 'Fixed' if emp['fixed_rate'] != 0 else 'Actual'\n",
    "\n",
    "    emp['gender'] = None\n",
    "\n",
    "# for uniq in uniqer:\n",
    "#     print(uniq)"
   ]
  },
  {
   "cell_type": "code",
   "execution_count": 94,
   "metadata": {},
   "outputs": [],
   "source": [
    "# uniqer = set()\n",
    "# for emp in empList:\n",
    "#     uniqer.add(emp['accountNo'])\n",
    "\n",
    "# for uniq in uniqer:\n",
    "#     print(uniq)"
   ]
  },
  {
   "cell_type": "code",
   "execution_count": 3,
   "metadata": {},
   "outputs": [],
   "source": [
    "# pd.DataFrame(list(empList[0].keys()), list(empList[0].values()))\n",
    "list(empList[0].keys())\n",
    "columns = \"(\"\n",
    "values = \"(\"\n",
    "\n",
    "for key in empList[0].keys():\n",
    "    columns += key + \", \"\n",
    "    values += \"%s, \"\n",
    "\n",
    "columns = columns[0:-2]\n",
    "values = values[0:-2]\n",
    "\n",
    "columns += \")\"\n",
    "values += \")\""
   ]
  },
  {
   "cell_type": "code",
   "execution_count": 4,
   "metadata": {},
   "outputs": [
    {
     "name": "stdout",
     "output_type": "stream",
     "text": [
      "inserted 109 employees\n"
     ]
    }
   ],
   "source": [
    "import pymysql\n",
    "\n",
    "HOST = os.environ.get(\"DB_HOST\")\n",
    "USER = os.environ.get(\"DB_USER\")\n",
    "PASSWORD = os.environ.get(\"DB_PASSWORD\")\n",
    "DATABASE = os.environ.get(\"DB_SCHEMA\")\n",
    "\n",
    "connection = pymysql.connect(\n",
    "    host=HOST,\n",
    "    user=USER,\n",
    "    password=PASSWORD,\n",
    "    database=DATABASE,\n",
    "    cursorclass=pymysql.cursors.DictCursor\n",
    ")\n",
    "\n",
    "with connection:\n",
    "    with connection.cursor() as cursor:\n",
    "        # sql = 'SELECT * FROM information_schema.tables WHERE table_type=\\'BASE TABLE\\''\n",
    "        # sql = 'DESCRIBE attendance_record'\n",
    "        sql = f'INSERT INTO employees {columns} VALUE {values}'\n",
    "\n",
    "        inserted = []\n",
    "        for emp in empList:\n",
    "            cursor.execute(f'SELECT * FROM employees WHERE empId=\\'{emp['empId']}\\'')\n",
    "            exist = cursor.fetchone()\n",
    "            if exist: continue\n",
    "\n",
    "            cursor.execute(sql, list(emp.values()))\n",
    "            inserted.append(emp)\n",
    "        \n",
    "        connection.commit()\n",
    "        \n",
    "        print(\"inserted\", len(inserted), \"employees\")"
   ]
  },
  {
   "cell_type": "code",
   "execution_count": 5,
   "metadata": {},
   "outputs": [],
   "source": [
    "import csv\n",
    "\n",
    "with open('test.csv', 'w', newline='') as file:\n",
    "    writer = csv.DictWriter(file, list(inserted[0].keys()))\n",
    "    writer.writeheader()\n",
    "    writer.writerows(inserted)"
   ]
  },
  {
   "cell_type": "code",
   "execution_count": 109,
   "metadata": {},
   "outputs": [
    {
     "data": {
      "text/plain": [
       "148"
      ]
     },
     "execution_count": 109,
     "metadata": {},
     "output_type": "execute_result"
    }
   ],
   "source": [
    "len(empList)"
   ]
  }
 ],
 "metadata": {
  "kernelspec": {
   "display_name": "sh-upload-mo3_4saU",
   "language": "python",
   "name": "python3"
  },
  "language_info": {
   "codemirror_mode": {
    "name": "ipython",
    "version": 3
   },
   "file_extension": ".py",
   "mimetype": "text/x-python",
   "name": "python",
   "nbconvert_exporter": "python",
   "pygments_lexer": "ipython3",
   "version": "3.12.1"
  }
 },
 "nbformat": 4,
 "nbformat_minor": 2
}
