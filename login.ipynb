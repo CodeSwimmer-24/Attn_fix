{
 "cells": [
  {
   "cell_type": "code",
   "execution_count": null,
   "metadata": {},
   "outputs": [],
   "source": [
    "import os\n",
    "\n",
    "from dotenv import load_dotenv\n",
    "import pymysql\n",
    "from password_generator import PasswordGenerator\n",
    "\n",
    "pwo = PasswordGenerator()\n",
    "\n",
    "load_dotenv()\n",
    "\n",
    "DB_HOST = os.getenv(\"DB_HOST\")\n",
    "DB_USER = os.getenv(\"DB_USER\")\n",
    "DB_PASSWORD = os.getenv(\"DB_PASSWORD\")\n",
    "DB_SCHEMA = os.getenv(\"DB_SCHEMA\")\n",
    "\n",
    "con = pymysql.connect(host=DB_HOST, user=DB_USER, password=DB_PASSWORD, port=3306, database=DB_SCHEMA)\n",
    "\n",
    "users = []\n",
    "\n",
    "with pymysql.cursors.Cursor(con) as cursor:\n",
    "    cursor.execute(\"SELECT empId, ,employeeDeploySite FROM employees\")\n",
    "    employees = cursor.fetchall()\n",
    "\n",
    "    for employee in employees:\n",
    "        # print(\"🐷\", employee)\n",
    "        users.append([employee[0], pwo.shuffle_password(\"abcdefghijklmnopqrstuvwxyzABCDEFGHIJKLMNOPQRSTUVWXYZ0123456789@\", 5), employee[1]])\n",
    "\n",
    "    with pymysql.cursors.Cursor(con) as cursor:\n",
    "        for user in users:\n",
    "            if user[2] is None: user[2] = 'None'\n",
    "            print(\"🐷 oink\", user)\n",
    "            cursor.execute(\"INSERT INTO attendance_users (user_id, password, site_location) VALUES (%s, %s, %s)\", user)\n",
    "            con.commit()\n"
   ]
  },
  {
   "cell_type": "code",
   "execution_count": null,
   "metadata": {},
   "outputs": [],
   "source": [
    "import csv\n",
    "\n",
    "with open(\"users.csv\", \"w\") as file:\n",
    "    writer = csv.writer(file)\n",
    "    writer.writerow([\"user_id\", \"password\", \"site_location\"])\n",
    "    for user in users:\n",
    "        writer.writerow(user)\n"
   ]
  },
  {
   "cell_type": "markdown",
   "metadata": {},
   "source": [
    "# Read csv data and update with contact from Database\n"
   ]
  },
  {
   "cell_type": "code",
   "execution_count": null,
   "metadata": {},
   "outputs": [],
   "source": [
    "import os\n",
    "import csv\n",
    "\n",
    "from dotenv import load_dotenv\n",
    "import pymysql\n",
    "\n",
    "load_dotenv()\n",
    "\n",
    "DB_HOST = os.getenv(\"DB_HOST\")\n",
    "DB_USER = os.getenv(\"DB_USER\")\n",
    "DB_PASSWORD = os.getenv(\"DB_PASSWORD\")\n",
    "DB_SCHEMA = os.getenv(\"DB_SCHEMA\")\n",
    "\n",
    "con = pymysql.connect(host=DB_HOST, user=DB_USER, password=DB_PASSWORD, port=3306, database=DB_SCHEMA)\n",
    "\n",
    "new_users = []\n",
    "\n",
    "with open(\"users.csv\") as file:\n",
    "    reader = csv.reader(file)\n",
    "    next(reader) # ignore header\n",
    "\n",
    "    for line in reader:\n",
    "        print(\"🐖 oink\", line)\n",
    "        with pymysql.cursors.Cursor(con) as khinzeer:\n",
    "            khinzeer.execute(\"SELECT contact from employees WHERE empId = %s\", line[0])\n",
    "            contact = khinzeer.fetchone()[0]\n",
    "            line.append(contact)\n",
    "            new_users.append(line)\n",
    "\n",
    "with open(\"users1.csv\", \"w\") as file:\n",
    "    writer = csv.writer(file)\n",
    "    writer.writerow([\"user_id\", \"password\", \"site_location\", \"contact\"])\n",
    "    for user in new_users:\n",
    "        writer.writerow(user)\n"
   ]
  }
 ],
 "metadata": {
  "kernelspec": {
   "display_name": ".venv",
   "language": "python",
   "name": "python3"
  },
  "language_info": {
   "codemirror_mode": {
    "name": "ipython",
    "version": 3
   },
   "file_extension": ".py",
   "mimetype": "text/x-python",
   "name": "python",
   "nbconvert_exporter": "python",
   "pygments_lexer": "ipython3",
   "version": "3.12.3"
  }
 },
 "nbformat": 4,
 "nbformat_minor": 2
}
