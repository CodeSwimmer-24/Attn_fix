{
 "cells": [
  {
   "cell_type": "code",
   "execution_count": 1,
   "metadata": {},
   "outputs": [
    {
     "name": "stdout",
     "output_type": "stream",
     "text": [
      "462\n"
     ]
    }
   ],
   "source": [
    "import os\n",
    "from datetime import datetime\n",
    "\n",
    "from dotenv import load_dotenv\n",
    "import pymysql\n",
    "import pymysql.cursors\n",
    "\n",
    "load_dotenv()\n",
    "\n",
    "DB_HOST = os.getenv(\"DB_HOST\")\n",
    "DB_USER = os.getenv(\"DB_USER\")\n",
    "DB_PASSWORD = os.getenv(\"DB_PASSWORD\")\n",
    "DB_SCHEMA = os.getenv(\"DB_SCHEMA\")\n",
    "\n",
    "con = pymysql.connect(host=DB_HOST, user=DB_USER, password=DB_PASSWORD, port=3306, database=DB_SCHEMA)\n",
    "\n",
    "data = []\n",
    "month = 8\n",
    "monthName = \"august\"\n",
    "year = 2024\n",
    "\n",
    "with pymysql.cursors.DictCursor(con) as cursor:\n",
    "    queryString = f\"SELECT e.empId, et.employeeType, et.dailyWage, ah.month, ah.year, ah.days, ah.ot_hours FROM `employees` AS e\\\n",
    "        JOIN `employeetypes` AS et ON e.employeeTypeId = et.employeeTypeId\\\n",
    "        JOIN `attendance_history` AS ah ON e.empId = ah.emp_id\\\n",
    "        WHERE ah.month = {month} AND ah.year = {year}\"\n",
    "    cursor.execute(queryString)\n",
    "\n",
    "    datas = cursor.fetchall()\n",
    "\n",
    "    count = 0\n",
    "\n",
    "    for data in datas:\n",
    "        with con.cursor() as salaryCursor:\n",
    "            # basic_amount = number of working days * dailywage\n",
    "            basic_amount = data['days'] * data['dailyWage']\n",
    "            # pf = basic_amount * 12 / 100\n",
    "            pf = basic_amount * 12 / 100\n",
    "            # esi = basic_amount * 0.75 / 100\n",
    "            esi = basic_amount * 0.75 / 100\n",
    "            # gross_amount = basic_amount - pf - esi\n",
    "            gross_amount = basic_amount - pf - esi\n",
    "            ### For good attendance\n",
    "            # if working days > 25 : basic_amount + 5.6; else if > 24: basic_amount + 4.2; else if > 20: basic_amount + 2.8; else if > 16: basic_amount + 1.4\n",
    "            good_attendance = 0.0\n",
    "            if data['days'] > 25:\n",
    "                good_attendance = 5.6\n",
    "            elif data['days'] > 24:\n",
    "                good_attendance = 4.2\n",
    "            elif data['days'] > 20:\n",
    "                good_attendance = 2.8\n",
    "            elif data['days'] > 16:\n",
    "                good_attendance = 1.4\n",
    "\n",
    "            basic_amount = basic_amount + good_attendance\n",
    "\n",
    "            to_send = {\n",
    "                \"advance\": 0,\n",
    "                \"mr_advance\": 0.0,\n",
    "                \"total_advance\": 0.0,\n",
    "                \"attendance_amount\": 0,\n",
    "                \"basic_amount\": round(basic_amount),\n",
    "                \"difference_amount\": 0,\n",
    "                \"esi\": round(esi),\n",
    "                \"good_attendance\": good_attendance,\n",
    "                \"grand_total\": 0,\n",
    "                \"gross_amount\": round(gross_amount),\n",
    "                \"incentive_amount\": 0,\n",
    "                \"national_holiday\": 0,\n",
    "                \"ot_amount\": 0,\n",
    "                \"ot_hours\": data['ot_hours'],\n",
    "                \"pf\": round(pf),\n",
    "                \"total_ar_amount\": 0,\n",
    "                \"empId\": data[\"empId\"],\n",
    "                \"salary_date\": f\"{year}-{f\"0{month}\" if month < 10 else month}-31 00:00:00.000\",\n",
    "                \"working_days\": f\"{round(data[\"days\"])}\",\n",
    "                \"mr_days\": f\"{round(data[\"days\"])}\",\n",
    "                \"salary_month\": f\"{data[\"empId\"]}_{monthName}_{year}\"\n",
    "            }\n",
    "\n",
    "            # print(to_send)\n",
    "            columns1 = \"\"\n",
    "            columns2 = \"\"\n",
    "            for key in to_send.keys():\n",
    "                columns1 = columns1 + f\"{key}, \"\n",
    "                columns2 = columns2 + f\"%s, \"\n",
    "            columns1 = columns1[:-2]\n",
    "            columns2 = columns2[:-2]\n",
    "\n",
    "            queryString = f\"INSERT INTO salary ({columns1}) VALUE ({columns2})\"\n",
    "\n",
    "            salaryCursor.execute(queryString, list(to_send.values()))\n",
    "            con.commit()\n",
    "\n",
    "            count = count + 1\n",
    "    \n",
    "    print(count)\n",
    "\n",
    "\n",
    "con.close()"
   ]
  },
  {
   "cell_type": "code",
   "execution_count": 3,
   "metadata": {},
   "outputs": [
    {
     "name": "stdout",
     "output_type": "stream",
     "text": [
      "0 1\n",
      "1 3\n",
      "2 4\n"
     ]
    }
   ],
   "source": [
    "l = [1, 3, 4]\n",
    "\n",
    "for i, e in enumerate(l):\n",
    "    print(i, e)"
   ]
  }
 ],
 "metadata": {
  "kernelspec": {
   "display_name": "sh-fix-2FPalweW",
   "language": "python",
   "name": "python3"
  },
  "language_info": {
   "codemirror_mode": {
    "name": "ipython",
    "version": 3
   },
   "file_extension": ".py",
   "mimetype": "text/x-python",
   "name": "python",
   "nbconvert_exporter": "python",
   "pygments_lexer": "ipython3",
   "version": "3.12.3"
  }
 },
 "nbformat": 4,
 "nbformat_minor": 2
}
